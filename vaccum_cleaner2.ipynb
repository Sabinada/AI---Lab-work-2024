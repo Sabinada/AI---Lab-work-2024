{
  "nbformat": 4,
  "nbformat_minor": 0,
  "metadata": {
    "colab": {
      "provenance": [],
      "authorship_tag": "ABX9TyNGlGCEguzLIqrvOhiy4W77",
      "include_colab_link": true
    },
    "kernelspec": {
      "name": "python3",
      "display_name": "Python 3"
    },
    "language_info": {
      "name": "python"
    }
  },
  "cells": [
    {
      "cell_type": "markdown",
      "metadata": {
        "id": "view-in-github",
        "colab_type": "text"
      },
      "source": [
        "<a href=\"https://colab.research.google.com/github/Sabinada/AI---Lab-work-2024/blob/master/vaccum_cleaner2.ipynb\" target=\"_parent\"><img src=\"https://colab.research.google.com/assets/colab-badge.svg\" alt=\"Open In Colab\"/></a>"
      ]
    },
    {
      "cell_type": "code",
      "execution_count": 1,
      "metadata": {
        "colab": {
          "base_uri": "https://localhost:8080/"
        },
        "id": "5T0Ut16RcMBG",
        "outputId": "51a3420e-3b8e-4e23-dc79-2d13b62f72e7"
      },
      "outputs": [
        {
          "output_type": "stream",
          "name": "stdout",
          "text": [
            "Initial Environment State: {'A': 'Dirty', 'B': 'Clean'}\n",
            "Starting in Room: B\n",
            "Room B is already Clean.\n",
            "Moving to Room A...\n",
            "Room A is Dirty. Cleaning...\n",
            "Room A is now Clean.\n",
            "Moving to Room B...\n",
            "All rooms are clean! Final Environment State: {'A': 'Clean', 'B': 'Clean'}\n"
          ]
        }
      ],
      "source": [
        "import random\n",
        "\n",
        "def vacuum_cleaner_reflex_agent(environment):\n",
        "\n",
        "    current_location = random.choice([\"A\", \"B\"])  # Start randomly in one of the rooms\n",
        "\n",
        "    print(\"Initial Environment State:\", environment)\n",
        "    print(\"Starting in Room:\", current_location)\n",
        "\n",
        "    while \"Dirty\" in environment.values():\n",
        "        if environment[current_location] == \"Dirty\":\n",
        "            print(f\"Room {current_location} is Dirty. Cleaning...\")\n",
        "            environment[current_location] = \"Clean\"\n",
        "            print(f\"Room {current_location} is now Clean.\")\n",
        "        else:\n",
        "            print(f\"Room {current_location} is already Clean.\")\n",
        "\n",
        "        # Move to the next room\n",
        "        current_location = \"A\" if current_location == \"B\" else \"B\"\n",
        "        print(f\"Moving to Room {current_location}...\")\n",
        "\n",
        "    print(\"All rooms are clean! Final Environment State:\", environment)\n",
        "\n",
        "# Example environment\n",
        "example_environment = {\n",
        "    \"A\": random.choice([\"Dirty\", \"Clean\"]),\n",
        "    \"B\": random.choice([\"Dirty\", \"Clean\"]),\n",
        "}\n",
        "\n",
        "# Run the vacuum cleaner reflex agent\n",
        "vacuum_cleaner_reflex_agent(example_environment)"
      ]
    }
  ]
}